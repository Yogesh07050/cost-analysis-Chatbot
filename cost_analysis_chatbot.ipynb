{
 "cells": [
  {
   "cell_type": "code",
   "execution_count": 2,
   "id": "897a70dd",
   "metadata": {},
   "outputs": [],
   "source": [
    "import os\n",
    "from dotenv import load_dotenv\n",
    "from langchain_openai import OpenAI\n",
    "from langchain.prompts import PromptTemplate\n",
    "from langchain_core.output_parsers import StrOutputParser"
   ]
  },
  {
   "cell_type": "code",
   "execution_count": 3,
   "id": "935ad460",
   "metadata": {},
   "outputs": [
    {
     "name": "stdout",
     "output_type": "stream",
     "text": [
      "(72406, 15)\n",
      "['CloudProvider', 'CloudProviderAccount', 'Date', 'Region', 'ResourceType', 'ResourceId', 'Costperday', 'CreatedDate', 'CreatedBy', 'IsRunning', 'Project', 'Environment', 'team', 'instance_type', 'ServiceType']\n"
     ]
    }
   ],
   "source": [
    "import pandas as pd\n",
    "\n",
    "df = pd.read_csv(\"cur_data.csv\")\n",
    "print(df.shape)\n",
    "print(df.columns.tolist())"
   ]
  },
  {
   "cell_type": "code",
   "execution_count": 4,
   "id": "6e355a87",
   "metadata": {},
   "outputs": [],
   "source": [
    "from langchain_community.utilities import SQLDatabase\n",
    "from sqlalchemy import create_engine\n",
    "\n",
    "engine = create_engine(\"sqlite:///cur_data.db\")\n"
   ]
  },
  {
   "cell_type": "code",
   "execution_count": 5,
   "id": "b4464636",
   "metadata": {},
   "outputs": [
    {
     "name": "stdout",
     "output_type": "stream",
     "text": [
      "sqlite\n",
      "['cur_data', 'titanic']\n",
      "[(489986912819, 413304032703, 'canaan', 'arn:aws:elasticloadbalancing:us-east-1:413304032703:loadbalancer/a5df9041fc0c64bdc81f260098822c53', 'AWSDataTransfer', None, None, 3.3e-09, 1.639e-07, '2025-09-02T00:00:00Z/2025-09-03T00:00:00Z', \"[('user_primary_app', 'ArkConnect'), ('user_function', 'ingress-nginx'), ('user_team', 'Managed IT'), ('user_secondary_app', 'ingress-nginx'), ('user_cloud_and_region', 'AWS\\\\xa0US\\\\xa0East-1'), ('user_environment', 'Production'), ('user_project', 'ARK')]\", 0.0200999999999999, '2025-09-02', 'Managed IT', 'ARK', 'Production', 'ArkConnect', '2025-09'), (489986912819, 413304032703, 'canaan', 'arn:aws:elasticloadbalancing:us-east-1:413304032703:loadbalancer/a5df9041fc0c64bdc81f260098822c53', 'AWSDataTransfer', None, None, 2.687e-07, 1.34381e-05, '2025-09-01T00:00:00Z/2025-09-02T00:00:00Z', \"[('user_primary_app', 'ArkConnect'), ('user_function', 'ingress-nginx'), ('user_team', 'Managed IT'), ('user_secondary_app', 'ingress-nginx'), ('user_cloud_and_region', 'AWS\\\\xa0US\\\\xa0East-1'), ('user_environment', 'Production'), ('user_project', 'ARK')]\", 0.02, '2025-09-01', 'Managed IT', 'ARK', 'Production', 'ArkConnect', '2025-09'), (489986912819, 413304032703, 'canaan', 'arn:aws:elasticloadbalancing:us-east-1:413304032703:loadbalancer/afca49bdb29344507b3edf2ba663bb11', 'AWSDataTransfer', None, None, 1.6888e-06, 8.44365e-05, '2025-09-02T00:00:00Z/2025-09-03T00:00:00Z', \"[('user_primary_app', 'ArkConnect'), ('user_function', 'games'), ('user_team', 'Dev-Team'), ('user_secondary_app', 'games-backend'), ('user_cloud_and_region', 'AWS\\\\xa0US\\\\xa0East-1'), ('user_environment', 'Production'), ('user_project', 'ARK')]\", 0.02, '2025-09-02', 'Dev-Team', 'ARK', 'Production', 'ArkConnect', '2025-09'), (489986912819, 413304032703, 'canaan', 'arn:aws:elasticloadbalancing:us-east-1:413304032703:loadbalancer/a5df9041fc0c64bdc81f260098822c53', 'AWSDataTransfer', None, None, 8e-10, 4.1e-08, '2025-09-05T00:00:00Z/2025-09-06T00:00:00Z', \"[('user_primary_app', 'ArkConnect'), ('user_function', 'ingress-nginx'), ('user_team', 'Managed IT'), ('user_secondary_app', 'ingress-nginx'), ('user_cloud_and_region', 'AWS\\\\xa0US\\\\xa0East-1'), ('user_environment', 'Production'), ('user_project', 'ARK')]\", 0.0194999999999999, '2025-09-05', 'Managed IT', 'ARK', 'Production', 'ArkConnect', '2025-09'), (489986912819, 413304032703, 'canaan', 'i-0badbc99b04458f43', 'AWSDataTransfer', None, None, 2.604e-07, 1.30227e-05, '2025-09-04T00:00:00Z/2025-09-05T00:00:00Z', \"[('user_primary_app', 'ArkConnect'), ('user_function', 'To provide Deployments.'), ('user_team', 'Managed IT'), ('user_secondary_app', 'Jenkins'), ('user_cloud_and_region', 'AWS US East-1'), ('user_environment', 'Production'), ('user_deployed_by', 'terraform_provision_canaan_EKS'),...\", 0.02, '2025-09-04', 'Managed IT', 'ARK', 'Production', 'ArkConnect', '2025-09'), (489986912819, 413304032703, 'canaan', 'i-0badbc99b04458f43', 'AWSDataTransfer', None, None, 1.293e-07, 6.4662e-06, '2025-09-08T00:00:00Z/2025-09-09T00:00:00Z', \"[('user_primary_app', 'ArkConnect'), ('user_function', 'To provide Deployments.'), ('user_team', 'Managed IT'), ('user_secondary_app', 'Jenkins'), ('user_cloud_and_region', 'AWS US East-1'), ('user_environment', 'Production'), ('user_deployed_by', 'terraform_provision_canaan_EKS'),...\", 0.02, '2025-09-08', 'Managed IT', 'ARK', 'Production', 'ArkConnect', '2025-09'), (489986912819, 413304032703, 'canaan', 'arn:aws:elasticloadbalancing:us-east-1:413304032703:loadbalancer/a0c43b86d152e47b0ae56da04a12fe5a', 'AWSDataTransfer', None, None, 2.883e-07, 1.4415e-05, '2025-09-01T00:00:00Z/2025-09-02T00:00:00Z', \"[('user_primary_app', 'ArkConnect'), ('user_function', 'Grafana Dashboard'), ('user_team', 'Managed\\\\xa0IT'), ('user_secondary_app', 'Grafana'), ('user_cloud_and_region', 'AWS\\\\xa0US\\\\xa0East-1'), ('user_environment', 'Production'), ('user_project', 'ARK')]\", 0.02, '2025-09-01', 'Managed\\xa0IT', 'ARK', 'Production', 'ArkConnect', '2025-09'), (489986912819, 413304032703, 'canaan', 'arn:aws:elasticloadbalancing:us-east-1:413304032703:loadbalancer/a48a1cec2acf94627a1e155a73a4adfb', 'AWSDataTransfer', None, None, 8.701e-07, 4.3504e-05, '2025-09-02T00:00:00Z/2025-09-03T00:00:00Z', \"[('user_primary_app', 'ArkConnect'), ('user_function', 'Node API Service'), ('user_team', 'Managed IT'), ('user_secondary_app', 'Node API Service'), ('user_cloud_and_region', 'AWS\\\\xa0US\\\\xa0East-1'), ('user_environment', 'Production'), ('user_project', 'ARK')]\", 0.02, '2025-09-02', 'Managed IT', 'ARK', 'Production', 'ArkConnect', '2025-09'), (489986912819, 413304032703, 'canaan', 'arn:aws:elasticloadbalancing:us-east-1:413304032703:loadbalancer/a0c43b86d152e47b0ae56da04a12fe5a', 'AWSDataTransfer', None, None, 2.883e-07, 1.4415e-05, '2025-09-08T00:00:00Z/2025-09-09T00:00:00Z', \"[('user_primary_app', 'ArkConnect'), ('user_function', 'Grafana Dashboard'), ('user_team', 'Managed\\\\xa0IT'), ('user_secondary_app', 'Grafana'), ('user_cloud_and_region', 'AWS\\\\xa0US\\\\xa0East-1'), ('user_environment', 'Production'), ('user_project', 'ARK')]\", 0.02, '2025-09-08', 'Managed\\xa0IT', 'ARK', 'Production', 'ArkConnect', '2025-09'), (489986912819, 413304032703, 'canaan', 'arn:aws:elasticloadbalancing:us-east-1:413304032703:loadbalancer/a5df9041fc0c64bdc81f260098822c53', 'AWSDataTransfer', None, None, 2.546e-07, 1.27312e-05, '2025-09-08T00:00:00Z/2025-09-09T00:00:00Z', \"[('user_primary_app', 'ArkConnect'), ('user_function', 'ingress-nginx'), ('user_team', 'Managed IT'), ('user_secondary_app', 'ingress-nginx'), ('user_cloud_and_region', 'AWS\\\\xa0US\\\\xa0East-1'), ('user_environment', 'Production'), ('user_project', 'ARK')]\", 0.02, '2025-09-08', 'Managed IT', 'ARK', 'Production', 'ArkConnect', '2025-09')]\n"
     ]
    }
   ],
   "source": [
    "db = SQLDatabase(engine=engine)\n",
    "print(db.dialect)\n",
    "print(db.get_usable_table_names())\n",
    "print(db.run(\"SELECT * FROM cur_data WHERE project = 'ARK' LIMIT 10;\"))"
   ]
  },
  {
   "cell_type": "code",
   "execution_count": 6,
   "id": "6250ccc0",
   "metadata": {},
   "outputs": [],
   "source": [
    "from typing_extensions import TypedDict\n",
    "\n",
    "\n",
    "class State(TypedDict):\n",
    "    question: str\n",
    "    query: str\n",
    "    result: str\n",
    "    answer: str"
   ]
  },
  {
   "cell_type": "code",
   "execution_count": 7,
   "id": "fcaca223",
   "metadata": {},
   "outputs": [],
   "source": [
    "import getpass\n",
    "import os\n",
    "\n",
    "if not os.environ.get(\"MISTRAL_API_KEY\"):\n",
    "  os.environ[\"MISTRAL_API_KEY\"] = getpass.getpass(\"Enter API key for Mistral AI: \")\n",
    "\n",
    "from langchain.chat_models import init_chat_model\n",
    "\n",
    "llm = init_chat_model(\"mistral-large-latest\", model_provider=\"mistralai\")"
   ]
  },
  {
   "cell_type": "code",
   "execution_count": 8,
   "id": "4850af47",
   "metadata": {},
   "outputs": [
    {
     "name": "stdout",
     "output_type": "stream",
     "text": [
      "================================\u001b[1m System Message \u001b[0m================================\n",
      "\n",
      "\n",
      "Given an input question, create a syntactically correct \u001b[33;1m\u001b[1;3m{dialect}\u001b[0m query to\n",
      "run to help find the answer. Unless the user specifies in his question a\n",
      "specific number of examples they wish to obtain, always limit your query to\n",
      "at most \u001b[33;1m\u001b[1;3m{top_k}\u001b[0m results. You can order the results by a relevant column to\n",
      "return the most interesting examples in the database.\n",
      "\n",
      "Never query for all the columns from a specific table, only ask for a the\n",
      "few relevant columns given the question.\n",
      "\n",
      "Pay attention to use only the column names that you can see in the schema\n",
      "description. Be careful to not query for columns that do not exist. Also,\n",
      "pay attention to which column is in which table.\n",
      "\n",
      "Only use the following tables:\n",
      "{cur_data(management_account_id, usage_account_id, account_name, resource_id, aws_service, instance_type, aws_region, cost_amount, usage_quantity, time_period, resource_tags, cost_per_unit, usage_start_date, team, project, environment, primary_app, billing_period)}\n",
      "\n",
      "================================\u001b[1m Human Message \u001b[0m=================================\n",
      "\n",
      "Question: \u001b[33;1m\u001b[1;3m{input}\u001b[0m\n"
     ]
    }
   ],
   "source": [
    "from langchain_core.prompts import ChatPromptTemplate\n",
    "\n",
    "system_message = \"\"\"\n",
    "Given an input question, create a syntactically correct {dialect} query to\n",
    "run to help find the answer. Unless the user specifies in his question a\n",
    "specific number of examples they wish to obtain, always limit your query to\n",
    "at most {top_k} results. You can order the results by a relevant column to\n",
    "return the most interesting examples in the database.\n",
    "\n",
    "Never query for all the columns from a specific table, only ask for a the\n",
    "few relevant columns given the question.\n",
    "\n",
    "Pay attention to use only the column names that you can see in the schema\n",
    "description. Be careful to not query for columns that do not exist. Also,\n",
    "pay attention to which column is in which table.\n",
    "\n",
    "Only use the following tables:\n",
    "{{cur_data(management_account_id, usage_account_id, account_name, resource_id, aws_service, instance_type, aws_region, cost_amount, usage_quantity, time_period, resource_tags, cost_per_unit, usage_start_date, team, project, environment, primary_app, billing_period)}}\n",
    "\"\"\"\n",
    "\n",
    "user_prompt = \"Question: {input}\"\n",
    "\n",
    "query_prompt_template = ChatPromptTemplate(\n",
    "    [(\"system\", system_message), (\"user\", user_prompt)]\n",
    ")\n",
    "\n",
    "for message in query_prompt_template.messages:\n",
    "    message.pretty_print()\n"
   ]
  },
  {
   "cell_type": "code",
   "execution_count": 9,
   "id": "66698a91",
   "metadata": {},
   "outputs": [],
   "source": [
    "from typing_extensions import TypedDict\n",
    "from langchain_ollama.chat_models import ChatOllama\n",
    "from langchain_core.prompts import ChatPromptTemplate\n",
    "\n",
    "# Assuming you already have query_prompt_template and llm initialized\n",
    "\n",
    "class QueryOutput(TypedDict):\n",
    "    \"\"\"Generated SQL query.\"\"\"\n",
    "    query: str\n",
    "\n",
    "def write_query(state: State, hint: str | None = None):\n",
    "    \"\"\"Generate SQL query to fetch information, with optional hint for modification.\"\"\"\n",
    "    prompt_input = {\n",
    "        \"dialect\": db.dialect,\n",
    "        \"top_k\": 10,\n",
    "        \"table_info\": db.get_table_info(),\n",
    "        \"input\": state.get(\"question\", \"\"),\n",
    "    }\n",
    "\n",
    "    if hint:\n",
    "        prompt_input[\"hint\"] = hint  # Add hint to template\n",
    "\n",
    "    # Call your existing prompt template\n",
    "    prompt = query_prompt_template.invoke(prompt_input)\n",
    "\n",
    "    structured_llm = llm.with_structured_output(QueryOutput)\n",
    "    result = structured_llm.invoke(prompt)\n",
    "\n",
    "    # Update state\n",
    "    state[\"query\"] = result[\"query\"]\n",
    "    return state\n",
    "\n",
    "\n"
   ]
  },
  {
   "cell_type": "code",
   "execution_count": 10,
   "id": "262318f5",
   "metadata": {},
   "outputs": [
    {
     "name": "stdout",
     "output_type": "stream",
     "text": [
      "{'question': 'Which project is spending the most?', 'query': 'SELECT project, SUM(cost_amount) AS total_cost FROM cur_data GROUP BY project ORDER BY total_cost DESC LIMIT 10;'}\n"
     ]
    }
   ],
   "source": [
    "print(write_query({\"question\": \"Which project is spending the most?\"}))"
   ]
  },
  {
   "cell_type": "code",
   "execution_count": 11,
   "id": "7ad3f7b8",
   "metadata": {},
   "outputs": [],
   "source": [
    "from langchain_community.tools.sql_database.tool import QuerySQLDatabaseTool\n",
    "\n",
    "# Initialize SQL tool globally\n",
    "execute_query_tool = QuerySQLDatabaseTool(db=db)\n",
    "\n",
    "def execute_query(state: State, max_retries=2):\n",
    "    \"\"\"\n",
    "    Execute SQL query and handle empty results.\n",
    "    If result is empty, refine the query using write_query + hint.\n",
    "    \"\"\"\n",
    "    query = state[\"query\"]\n",
    "\n",
    "    for attempt in range(max_retries + 1):\n",
    "        result = execute_query_tool.invoke(query)\n",
    "\n",
    "        if result and result != \"\":\n",
    "            state[\"query\"] = query\n",
    "            state[\"result\"] = result\n",
    "            return {\"result\": result}\n",
    "\n",
    "        # Empty result → refine query\n",
    "        print(f\"Attempt {attempt+1}: Empty result, refining SQL query...\")\n",
    "\n",
    "        hint = (\n",
    "            \"The SQL query returned no results. \"\n",
    "            \"Please slightly modify the SQL query to fetch relevant data\"\n",
    "            \"without changing table or column names.\"\n",
    "        )\n",
    "\n",
    "        # Use write_query function with the hint\n",
    "        state = write_query(state, hint=hint)\n",
    "        query = state[\"query\"]  # get new query\n",
    "\n",
    "    print(\"No results found after retries.\")\n",
    "    return {\"result\": \"No results found.\"}\n",
    "\n"
   ]
  },
  {
   "cell_type": "code",
   "execution_count": 12,
   "id": "c8e9fe18",
   "metadata": {},
   "outputs": [
    {
     "name": "stdout",
     "output_type": "stream",
     "text": [
      "Attempt 1: Empty result, refining SQL query...\n",
      "Attempt 2: Empty result, refining SQL query...\n",
      "Attempt 3: Empty result, refining SQL query...\n",
      "No results found after retries.\n"
     ]
    },
    {
     "data": {
      "text/plain": [
       "{'result': 'No results found.'}"
      ]
     },
     "execution_count": 12,
     "metadata": {},
     "output_type": "execute_result"
    }
   ],
   "source": [
    "execute_query({\"query\": \"SELECT resource_id, aws_service, instance_type, aws_region, cost_amount, usage_quantity, time_period, resource_tags \\nFROM cur_data \\nWHERE cost_amount > 0 \\n  AND aws_service IN ('Amazon Elastic Compute Cloud - Compute', 'Amazon Relational Database Service', 'Amazon ElastiCache', 'Amazon Redshift') \\n  AND environment NOT LIKE '%prod%' \\nORDER BY cost_amount DESC \\nLIMIT 10;\"})"
   ]
  },
  {
   "cell_type": "code",
   "execution_count": 13,
   "id": "d76c8ebf",
   "metadata": {},
   "outputs": [],
   "source": [
    "def generate_answer(state: State):\n",
    "    \"\"\"Answer question using retrieved information as context.\"\"\"\n",
    "    prompt = (\n",
    "        \"Given the following user question, corresponding SQL query, \"\n",
    "        \"and SQL result, answer the user's question short and sweet.\\n\\n\"\n",
    "        \"if no relevant information is found in the SQL result, say 'No relevant information found in the database.'\\n\\n\"\n",
    "        f\"Question: {state['question']}\\n\"\n",
    "        f\"SQL Query: {state['query']}\\n\"\n",
    "        f\"SQL Result: {state['result']}\"\n",
    "    \n",
    "    )\n",
    "    response = llm.invoke(prompt)\n",
    "    return {\"answer\": response.content}"
   ]
  },
  {
   "cell_type": "code",
   "execution_count": 14,
   "id": "8f734361",
   "metadata": {},
   "outputs": [],
   "source": [
    "from langgraph.graph import START, StateGraph\n",
    "\n",
    "graph_builder = StateGraph(State).add_sequence(\n",
    "    [write_query, execute_query, generate_answer]\n",
    ")\n",
    "graph_builder.add_edge(START, \"write_query\")\n",
    "graph = graph_builder.compile()"
   ]
  },
  {
   "cell_type": "code",
   "execution_count": 15,
   "id": "386d4a1a",
   "metadata": {},
   "outputs": [
    {
     "data": {
      "image/png": "[encoded data removed]",
      "text/plain": [
       "<IPython.core.display.Image object>"
      ]
     },
     "metadata": {},
     "output_type": "display_data"
    }
   ],
   "source": [
    "from IPython.display import Image, display\n",
    "\n",
    "display(Image(graph.get_graph().draw_mermaid_png()))"
   ]
  },
  {
   "cell_type": "code",
   "execution_count": 18,
   "id": "b4f6bbe3",
   "metadata": {},
   "outputs": [
    {
     "name": "stdout",
     "output_type": "stream",
     "text": [
      "{'write_query': {'question': 'which resources can be terminated to save cost', 'query': 'SELECT resource_id, aws_service, instance_type, aws_region, cost_amount, usage_quantity, time_period, team, project, environment \\nFROM cur_data \\nWHERE cost_amount > 0 \\nORDER BY cost_amount DESC \\nLIMIT 10;'}}\n",
      "{'execute_query': {'result': \"[('arn:aws:workspaces:us-east-1:832519233167:workspace/ws-69nndc8vm', 'AmazonWorkSpaces', None, 'us-east-1', 13.0, 1.0, '2025-09-01T00:00:00Z/2025-09-02T00:00:00Z', 'Managed\\\\xa0IT', 'Ark_Dev', 'Dev'), ('arn:aws:workspaces:us-east-1:832519233167:workspace/ws-1nv1q2ybg', 'AmazonWorkSpaces', None, 'us-east-1', 13.0, 1.0, '2025-09-01T00:00:00Z/2025-09-02T00:00:00Z', 'Managed\\\\xa0IT', 'Ark_Dev', 'Dev'), ('arn:aws:workspaces:us-east-1:832519233167:workspace/ws-1nv1q2ybg', 'AmazonWorkSpaces', None, 'us-east-1', 13.0, 1.0, '2025-10-01T00:00:00Z/2025-10-02T00:00:00Z', 'Managed\\\\xa0IT', 'Ark_Dev', 'Dev'), ('arn:aws:workspaces:us-east-1:832519233167:workspace/ws-69nndc8vm', 'AmazonWorkSpaces', None, 'us-east-1', 13.0, 1.0, '2025-10-01T00:00:00Z/2025-10-02T00:00:00Z', 'Managed\\\\xa0IT', 'Ark_Dev', 'Dev'), ('arn:aws:workspaces:us-east-1:413304032703:workspace/ws-71rmjnf7r', 'AmazonWorkSpaces', None, 'us-east-1', 9.75, 1.0, '2025-09-01T00:00:00Z/2025-09-02T00:00:00Z', None, None, None), ('arn:aws:workspaces:us-east-1:832519233167:workspace/ws-9ysf1cfpl', 'AmazonWorkSpaces', None, 'us-east-1', 9.75, 1.0, '2025-09-01T00:00:00Z/2025-09-02T00:00:00Z', 'Managed\\\\xa0IT', 'Ark_Dev', 'Dev'), ('arn:aws:workspaces:us-east-1:413304032703:workspace/ws-71rmjnf7r', 'AmazonWorkSpaces', None, 'us-east-1', 9.75, 1.0, '2025-10-01T00:00:00Z/2025-10-02T00:00:00Z', None, None, None), ('arn:aws:workspaces:us-east-1:832519233167:workspace/ws-9ysf1cfpl', 'AmazonWorkSpaces', None, 'us-east-1', 9.75, 1.0, '2025-10-01T00:00:00Z/2025-10-02T00:00:00Z', 'Managed\\\\xa0IT', 'Ark_Dev', 'Dev'), ('i-028fb96bd67d19e0a', 'AmazonEC2', 'c5.2xlarge', 'us-east-1', 8.16, 24.0, '2025-09-02T00:00:00Z/2025-09-03T00:00:00Z', None, None, None), ('i-028fb96bd67d19e0a', 'AmazonEC2', 'c5.2xlarge', 'us-east-1', 8.16, 24.0, '2025-09-07T00:00:00Z/2025-09-08T00:00:00Z', None, None, None)]\"}}\n",
      "{'generate_answer': {'answer': 'You can terminate these **Amazon WorkSpaces** (dev environments) and **EC2 instances** to save costs:\\n\\n- **WorkSpaces** (Ark_Dev, Dev, Managed IT):\\n  `ws-69nndc8vm`, `ws-1nv1q2ybg`, `ws-9ysf1cfpl` (2x $13/day, 2x $9.75/day)\\n- **EC2 Instance** (Unassigned):\\n  `i-028fb96bd67d19e0a` (c5.2xlarge, ~$8.16/day).\\n\\n**Verify usage** before terminating—some may be in use.'}}\n"
     ]
    }
   ],
   "source": [
    "for step in graph.stream(\n",
    "    {\"question\": \"which resources can be terminated to save cost\"}, stream_mode=\"updates\"\n",
    "):\n",
    "    print(step)"
   ]
  },
  {
   "cell_type": "code",
   "execution_count": 17,
   "id": "9cb6881c",
   "metadata": {},
   "outputs": [
    {
     "name": "stdout",
     "output_type": "stream",
     "text": [
      "{'write_query': {'question': 'which project spends the most ?', 'query': 'SELECT project, SUM(cost_amount) AS total_cost FROM cur_data GROUP BY project ORDER BY total_cost DESC LIMIT 10;'}}\n",
      "{'execute_query': {'result': \"[(None, 3239.0088865869047), ('Ark_Dev', 1437.8471960070924), ('ARK', 647.5549714743992), ('ManagedIT', 118.92915676109978), ('ANM', 68.41660836650011), ('Apache Superset', 36.48405477179998), ('SuperSilo_2414', 23.143166767200015), ('silo', 0.4047320443999934), ('grace', 0.008863196099998201), ('OpenVAS', 0.0012951055999999)]\"}}\n",
      "{'generate_answer': {'answer': 'The project with the highest spending is **None** with a total cost of **$3,239.01**.'}}\n"
     ]
    }
   ],
   "source": [
    "for step in graph.stream(\n",
    "    {\"question\": \"which project spends the most ?\"}, stream_mode=\"updates\"\n",
    "):\n",
    "    print(step)"
   ]
  }
 ],
 "metadata": {
  "kernelspec": {
   "display_name": "shiva",
   "language": "python",
   "name": "python3"
  },
  "language_info": {
   "codemirror_mode": {
    "name": "ipython",
    "version": 3
   },
   "file_extension": ".py",
   "mimetype": "text/x-python",
   "name": "python",
   "nbconvert_exporter": "python",
   "pygments_lexer": "ipython3",
   "version": "3.10.12"
  }
 },
 "nbformat": 4,
 "nbformat_minor": 5
}
